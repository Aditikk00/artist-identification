{
 "cells": [
  {
   "cell_type": "code",
   "execution_count": null,
   "id": "d0750eab",
   "metadata": {},
   "outputs": [],
   "source": [
    "from PIL import Image\n",
    "import os\n",
    "\n",
    "directory = 'train_1'\n",
    "\n",
    "for filename in os.listdir(directory):\n",
    "    try:\n",
    "        if filename.endswith('.jpg'):\n",
    "            img_path = os.path.join(directory, filename)\n",
    "            with Image.open(img_path) as img:\n",
    "                img_resized = img.resize((256, 256), resample=Image.BILINEAR)\n",
    "                img_resized.convert('RGB').save(os.path.join(directory, filename))\n",
    "    except:\n",
    "        print(f\"Could not process image {filename}\")"
   ]
  },
  {
   "cell_type": "code",
   "execution_count": null,
   "id": "5826d8ca",
   "metadata": {},
   "outputs": [],
   "source": [
    "filename = '103238.jpg'  # Replace with the name of an image in the train_1 folder\n",
    "img = Image.open(os.path.join('train_1', filename))\n",
    "print(img.size)  # Should print (256, 256)"
   ]
  }
 ],
 "metadata": {
  "kernelspec": {
   "display_name": "Python 3 (ipykernel)",
   "language": "python",
   "name": "python3"
  },
  "language_info": {
   "codemirror_mode": {
    "name": "ipython",
    "version": 3
   },
   "file_extension": ".py",
   "mimetype": "text/x-python",
   "name": "python",
   "nbconvert_exporter": "python",
   "pygments_lexer": "ipython3",
   "version": "3.9.12"
  }
 },
 "nbformat": 4,
 "nbformat_minor": 5
}
